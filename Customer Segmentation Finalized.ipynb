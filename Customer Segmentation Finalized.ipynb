{
 "cells": [
  {
   "cell_type": "code",
   "execution_count": 2,
   "id": "ff09953e",
   "metadata": {},
   "outputs": [],
   "source": [
    "import pandas as pd\n",
    "import matplotlib.pyplot as plt\n",
    "import numpy as np"
   ]
  },
  {
   "cell_type": "code",
   "execution_count": 11,
   "id": "d71346bb",
   "metadata": {},
   "outputs": [
    {
     "data": {
      "text/html": [
       "<div>\n",
       "<style scoped>\n",
       "    .dataframe tbody tr th:only-of-type {\n",
       "        vertical-align: middle;\n",
       "    }\n",
       "\n",
       "    .dataframe tbody tr th {\n",
       "        vertical-align: top;\n",
       "    }\n",
       "\n",
       "    .dataframe thead th {\n",
       "        text-align: right;\n",
       "    }\n",
       "</style>\n",
       "<table border=\"1\" class=\"dataframe\">\n",
       "  <thead>\n",
       "    <tr style=\"text-align: right;\">\n",
       "      <th></th>\n",
       "      <th>InvoiceNo</th>\n",
       "      <th>StockCode</th>\n",
       "      <th>Description</th>\n",
       "      <th>Quantity</th>\n",
       "      <th>InvoiceDate</th>\n",
       "      <th>UnitPrice</th>\n",
       "      <th>CustomerID</th>\n",
       "      <th>Country</th>\n",
       "    </tr>\n",
       "  </thead>\n",
       "  <tbody>\n",
       "    <tr>\n",
       "      <th>861</th>\n",
       "      <td>10014761</td>\n",
       "      <td>21814</td>\n",
       "      <td>AccessHer Gold-Plated &amp; Green Embellished Kund...</td>\n",
       "      <td>8</td>\n",
       "      <td>2010-12-01 12:23:00</td>\n",
       "      <td>1.45</td>\n",
       "      <td>17968.0</td>\n",
       "      <td>United Kingdom</td>\n",
       "    </tr>\n",
       "    <tr>\n",
       "      <th>1096</th>\n",
       "      <td>10018861</td>\n",
       "      <td>20973</td>\n",
       "      <td>Geox Men Coffee Brown Solid Leather Comfort Sa...</td>\n",
       "      <td>2</td>\n",
       "      <td>2010-12-01 12:54:00</td>\n",
       "      <td>0.65</td>\n",
       "      <td>14078.0</td>\n",
       "      <td>United Kingdom</td>\n",
       "    </tr>\n",
       "    <tr>\n",
       "      <th>1045</th>\n",
       "      <td>10024515</td>\n",
       "      <td>22941</td>\n",
       "      <td>HERE&amp;NOW Men Black &amp; Red Colourblocked Reversi...</td>\n",
       "      <td>1</td>\n",
       "      <td>2010-12-01 12:49:00</td>\n",
       "      <td>8.50</td>\n",
       "      <td>15012.0</td>\n",
       "      <td>United Kingdom</td>\n",
       "    </tr>\n",
       "    <tr>\n",
       "      <th>121</th>\n",
       "      <td>10006003</td>\n",
       "      <td>37444C</td>\n",
       "      <td>ID Men Grey Solid Thong Flip-Flops</td>\n",
       "      <td>1</td>\n",
       "      <td>2010-12-01 09:41:00</td>\n",
       "      <td>2.95</td>\n",
       "      <td>15311.0</td>\n",
       "      <td>India</td>\n",
       "    </tr>\n",
       "    <tr>\n",
       "      <th>466</th>\n",
       "      <td>10017021</td>\n",
       "      <td>85014B</td>\n",
       "      <td>Campus Sutra Men Blue Solid Round Neck T-shirt</td>\n",
       "      <td>3</td>\n",
       "      <td>2010-12-01 11:41:00</td>\n",
       "      <td>5.95</td>\n",
       "      <td>14307.0</td>\n",
       "      <td>United Kingdom</td>\n",
       "    </tr>\n",
       "  </tbody>\n",
       "</table>\n",
       "</div>"
      ],
      "text/plain": [
       "      InvoiceNo StockCode                                        Description  \\\n",
       "861    10014761     21814  AccessHer Gold-Plated & Green Embellished Kund...   \n",
       "1096   10018861     20973  Geox Men Coffee Brown Solid Leather Comfort Sa...   \n",
       "1045   10024515     22941  HERE&NOW Men Black & Red Colourblocked Reversi...   \n",
       "121    10006003    37444C                 ID Men Grey Solid Thong Flip-Flops   \n",
       "466    10017021    85014B     Campus Sutra Men Blue Solid Round Neck T-shirt   \n",
       "\n",
       "      Quantity         InvoiceDate  UnitPrice  CustomerID         Country  \n",
       "861          8 2010-12-01 12:23:00       1.45     17968.0  United Kingdom  \n",
       "1096         2 2010-12-01 12:54:00       0.65     14078.0  United Kingdom  \n",
       "1045         1 2010-12-01 12:49:00       8.50     15012.0  United Kingdom  \n",
       "121          1 2010-12-01 09:41:00       2.95     15311.0           India  \n",
       "466          3 2010-12-01 11:41:00       5.95     14307.0  United Kingdom  "
      ]
     },
     "execution_count": 11,
     "metadata": {},
     "output_type": "execute_result"
    }
   ],
   "source": [
    "df = pd.read_excel('mall 2 dataset.xlsx')\n",
    "df = df[df['CustomerID'].notna()]\n",
    "df = df.loc[:, ~df.columns.isin(['Manufacturer', 'Manufacturer name','Age'])] ##Additional line of code\n",
    "df_fix = df.sample(10000, random_state = 42, replace='True')                  ##Small changes done\n",
    "df_fix.shape\n",
    "df_fix.head()"
   ]
  },
  {
   "cell_type": "code",
   "execution_count": 12,
   "id": "74258422",
   "metadata": {},
   "outputs": [],
   "source": [
    "# Convert to show date only\n",
    "from datetime import datetime\n",
    "df_fix[\"InvoiceDate\"] = df_fix[\"InvoiceDate\"].dt.date\n",
    "# Create TotalSum colummn\n",
    "df_fix[\"TotalSum\"] = df_fix[\"Quantity\"] * df_fix[\"UnitPrice\"]\n",
    "# Create date variable that records recency\n",
    "import datetime\n",
    "snapshot_date = max(df_fix.InvoiceDate) + datetime.timedelta(days=1)\n",
    "# Aggregate data by each customer\n",
    "customers = df_fix.groupby(['CustomerID']).agg({\n",
    "    'InvoiceDate': lambda x: (snapshot_date - x.max()).days,\n",
    "    'InvoiceNo': 'count',\n",
    "    'TotalSum': 'sum'})\n",
    "# Rename columns\n",
    "customers.rename(columns = {'InvoiceDate': 'Recency',\n",
    "                            'InvoiceNo': 'Frequency',\n",
    "                            'TotalSum': 'MonetaryValue'}, inplace=True)"
   ]
  },
  {
   "cell_type": "code",
   "execution_count": 13,
   "id": "4c390323",
   "metadata": {},
   "outputs": [
    {
     "data": {
      "text/html": [
       "<div>\n",
       "<style scoped>\n",
       "    .dataframe tbody tr th:only-of-type {\n",
       "        vertical-align: middle;\n",
       "    }\n",
       "\n",
       "    .dataframe tbody tr th {\n",
       "        vertical-align: top;\n",
       "    }\n",
       "\n",
       "    .dataframe thead th {\n",
       "        text-align: right;\n",
       "    }\n",
       "</style>\n",
       "<table border=\"1\" class=\"dataframe\">\n",
       "  <thead>\n",
       "    <tr style=\"text-align: right;\">\n",
       "      <th></th>\n",
       "      <th>Recency</th>\n",
       "      <th>Frequency</th>\n",
       "      <th>MonetaryValue</th>\n",
       "    </tr>\n",
       "  </thead>\n",
       "  <tbody>\n",
       "    <tr>\n",
       "      <th>50</th>\n",
       "      <td>233889.362215</td>\n",
       "      <td>2.847627</td>\n",
       "      <td>12.131879</td>\n",
       "    </tr>\n",
       "    <tr>\n",
       "      <th>51</th>\n",
       "      <td>233889.362215</td>\n",
       "      <td>5.368756</td>\n",
       "      <td>14.861390</td>\n",
       "    </tr>\n",
       "    <tr>\n",
       "      <th>52</th>\n",
       "      <td>233889.362215</td>\n",
       "      <td>10.997021</td>\n",
       "      <td>13.559155</td>\n",
       "    </tr>\n",
       "    <tr>\n",
       "      <th>53</th>\n",
       "      <td>233889.362215</td>\n",
       "      <td>6.676272</td>\n",
       "      <td>16.235008</td>\n",
       "    </tr>\n",
       "    <tr>\n",
       "      <th>54</th>\n",
       "      <td>233889.362215</td>\n",
       "      <td>6.196950</td>\n",
       "      <td>14.319360</td>\n",
       "    </tr>\n",
       "  </tbody>\n",
       "</table>\n",
       "</div>"
      ],
      "text/plain": [
       "          Recency  Frequency  MonetaryValue\n",
       "50  233889.362215   2.847627      12.131879\n",
       "51  233889.362215   5.368756      14.861390\n",
       "52  233889.362215  10.997021      13.559155\n",
       "53  233889.362215   6.676272      16.235008\n",
       "54  233889.362215   6.196950      14.319360"
      ]
     },
     "execution_count": 13,
     "metadata": {},
     "output_type": "execute_result"
    }
   ],
   "source": [
    "from scipy import stats\n",
    "customers_fix = pd.DataFrame()\n",
    "customers_fix[\"Recency\"] = stats.boxcox(customers['Recency'])[0]\n",
    "customers_fix[\"Frequency\"] = stats.boxcox(customers['Frequency'])[0]\n",
    "customers_fix[\"MonetaryValue\"] = pd.Series(np.cbrt(customers['MonetaryValue'])).values\n",
    "customers_fix.tail()"
   ]
  },
  {
   "cell_type": "code",
   "execution_count": 14,
   "id": "1a052a1e",
   "metadata": {},
   "outputs": [
    {
     "name": "stdout",
     "output_type": "stream",
     "text": [
      "[ 0. -0. -0.]\n",
      "[1. 1. 1.]\n"
     ]
    }
   ],
   "source": [
    "# Import library\n",
    "from sklearn.preprocessing import StandardScaler\n",
    "# Initialize the Object\n",
    "scaler = StandardScaler()\n",
    "# Fit and Transform The Data\n",
    "scaler.fit(customers_fix)\n",
    "customers_normalized = scaler.transform(customers_fix)\n",
    "# Assert that it has mean 0 and variance 1\n",
    "print(customers_normalized.mean(axis = 0).round(2)) # [0. -0. 0.]\n",
    "print(customers_normalized.std(axis = 0).round(2)) # [1. 1. 1.]"
   ]
  },
  {
   "cell_type": "code",
   "execution_count": null,
   "id": "71e2f083",
   "metadata": {},
   "outputs": [],
   "source": [
    "\n"
   ]
  },
  {
   "cell_type": "code",
   "execution_count": 15,
   "id": "e1e6ba3e",
   "metadata": {},
   "outputs": [
    {
     "data": {
      "image/png": "[encoded data removed]",
      "text/plain": [
       "<Figure size 432x288 with 1 Axes>"
      ]
     },
     "metadata": {
      "needs_background": "light"
     },
     "output_type": "display_data"
    }
   ],
   "source": [
    "import seaborn as sns\n",
    "from sklearn.cluster import KMeans\n",
    "\n",
    "sse = {}\n",
    "for k in range(1, 11):\n",
    "    kmeans = KMeans(n_clusters=k, random_state=42)\n",
    "    kmeans.fit(customers_normalized)\n",
    "    sse[k] = kmeans.inertia_ # SSE to closest cluster centroid\n",
    "plt.title('The Elbow Method')\n",
    "plt.xlabel('k')\n",
    "plt.ylabel('SSE')\n",
    "sns.pointplot(x=list(sse.keys()), y=list(sse.values()))\n",
    "plt.show()"
   ]
  },
  {
   "cell_type": "code",
   "execution_count": 16,
   "id": "97d39d68",
   "metadata": {},
   "outputs": [
    {
     "data": {
      "text/plain": [
       "(55,)"
      ]
     },
     "execution_count": 16,
     "metadata": {},
     "output_type": "execute_result"
    }
   ],
   "source": [
    "model = KMeans(n_clusters=3, random_state=42)\n",
    "model.fit(customers_normalized)\n",
    "model.labels_.shape"
   ]
  },
  {
   "cell_type": "code",
   "execution_count": 17,
   "id": "d692477e",
   "metadata": {},
   "outputs": [
    {
     "data": {
      "text/html": [
       "<div>\n",
       "<style scoped>\n",
       "    .dataframe tbody tr th:only-of-type {\n",
       "        vertical-align: middle;\n",
       "    }\n",
       "\n",
       "    .dataframe tbody tr th {\n",
       "        vertical-align: top;\n",
       "    }\n",
       "\n",
       "    .dataframe thead tr th {\n",
       "        text-align: left;\n",
       "    }\n",
       "\n",
       "    .dataframe thead tr:last-of-type th {\n",
       "        text-align: right;\n",
       "    }\n",
       "</style>\n",
       "<table border=\"1\" class=\"dataframe\">\n",
       "  <thead>\n",
       "    <tr>\n",
       "      <th></th>\n",
       "      <th>Recency</th>\n",
       "      <th>Frequency</th>\n",
       "      <th colspan=\"2\" halign=\"left\">MonetaryValue</th>\n",
       "    </tr>\n",
       "    <tr>\n",
       "      <th></th>\n",
       "      <th>mean</th>\n",
       "      <th>mean</th>\n",
       "      <th>mean</th>\n",
       "      <th>count</th>\n",
       "    </tr>\n",
       "    <tr>\n",
       "      <th>Cluster</th>\n",
       "      <th></th>\n",
       "      <th></th>\n",
       "      <th></th>\n",
       "      <th></th>\n",
       "    </tr>\n",
       "  </thead>\n",
       "  <tbody>\n",
       "    <tr>\n",
       "      <th>0</th>\n",
       "      <td>360.0</td>\n",
       "      <td>26.76</td>\n",
       "      <td>1444.90</td>\n",
       "      <td>17</td>\n",
       "    </tr>\n",
       "    <tr>\n",
       "      <th>1</th>\n",
       "      <td>360.0</td>\n",
       "      <td>234.91</td>\n",
       "      <td>5818.05</td>\n",
       "      <td>33</td>\n",
       "    </tr>\n",
       "    <tr>\n",
       "      <th>2</th>\n",
       "      <td>3.0</td>\n",
       "      <td>358.60</td>\n",
       "      <td>3160.62</td>\n",
       "      <td>5</td>\n",
       "    </tr>\n",
       "  </tbody>\n",
       "</table>\n",
       "</div>"
      ],
      "text/plain": [
       "        Recency Frequency MonetaryValue      \n",
       "           mean      mean          mean count\n",
       "Cluster                                      \n",
       "0         360.0     26.76       1444.90    17\n",
       "1         360.0    234.91       5818.05    33\n",
       "2           3.0    358.60       3160.62     5"
      ]
     },
     "execution_count": 17,
     "metadata": {},
     "output_type": "execute_result"
    }
   ],
   "source": [
    "customers[\"Cluster\"] = model.labels_\n",
    "customers.groupby('Cluster').agg({\n",
    "    'Recency':'mean',\n",
    "    'Frequency':'mean',\n",
    "    'MonetaryValue':['mean', 'count']}).round(2)"
   ]
  },
  {
   "cell_type": "code",
   "execution_count": 18,
   "id": "8eb0cecd",
   "metadata": {},
   "outputs": [
    {
     "name": "stderr",
     "output_type": "stream",
     "text": [
      "C:\\Users\\Lakshmikanth\\Envs\\note\\lib\\site-packages\\seaborn\\_decorators.py:36: FutureWarning: Pass the following variables as keyword args: x, y. From version 0.12, the only valid positional argument will be `data`, and passing other arguments without an explicit keyword will result in an error or misinterpretation.\n",
      "  warnings.warn(\n"
     ]
    },
    {
     "data": {
      "text/plain": [
       "<AxesSubplot:xlabel='Attribute', ylabel='Value'>"
      ]
     },
     "execution_count": 18,
     "metadata": {},
     "output_type": "execute_result"
    },
    {
     "data": {
      "image/png": "[encoded data removed]",
      "text/plain": [
       "<Figure size 432x288 with 1 Axes>"
      ]
     },
     "metadata": {
      "needs_background": "light"
     },
     "output_type": "display_data"
    }
   ],
   "source": [
    "df_normalized = pd.DataFrame(customers_normalized, columns=['Recency', 'Frequency', 'MonetaryValue'])\n",
    "df_normalized['ID'] = customers.index\n",
    "df_normalized['Cluster'] = model.labels_\n",
    "# Melt The Data\n",
    "df_nor_melt = pd.melt(df_normalized.reset_index(),\n",
    "                      id_vars=['ID', 'Cluster'],\n",
    "                      value_vars=['Recency','Frequency','MonetaryValue'],\n",
    "                      var_name='Attribute',\n",
    "                      value_name='Value')\n",
    "df_nor_melt.head()\n",
    "# Visualize it\n",
    "sns.lineplot('Attribute', 'Value', hue='Cluster', data=df_nor_melt)"
   ]
  },
  {
   "cell_type": "code",
   "execution_count": null,
   "id": "b1fb41d9",
   "metadata": {},
   "outputs": [],
   "source": []
  }
 ],
 "metadata": {
  "interpreter": {
   "hash": "81794d4967e6c3204c66dcd87b604927b115b27c00565d3d43f05ba2f3a2cb0d"
  },
  "kernelspec": {
   "display_name": "Python 3 (ipykernel)",
   "language": "python",
   "name": "python3"
  },
  "language_info": {
   "codemirror_mode": {
    "name": "ipython",
    "version": 3
   },
   "file_extension": ".py",
   "mimetype": "text/x-python",
   "name": "python",
   "nbconvert_exporter": "python",
   "pygments_lexer": "ipython3",
   "version": "3.10.0"
  }
 },
 "nbformat": 4,
 "nbformat_minor": 5
}
